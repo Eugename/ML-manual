{
 "cells": [
  {
   "cell_type": "code",
   "execution_count": 30,
   "id": "43b680a5-4887-4abc-ada4-307b0c7ef7f1",
   "metadata": {},
   "outputs": [],
   "source": [
    "import numpy as np\n",
    "import pandas as pd"
   ]
  },
  {
   "cell_type": "code",
   "execution_count": 15,
   "id": "497bf0ac-2f15-419c-8b35-68b18d1a3e9e",
   "metadata": {},
   "outputs": [],
   "source": [
    "from sklearn.metrics import mean_squared_error"
   ]
  },
  {
   "cell_type": "markdown",
   "id": "6e2ac845-f528-4d3d-8cef-aafe9e8c6320",
   "metadata": {},
   "source": [
    "## Регрессия ##"
   ]
  },
  {
   "cell_type": "code",
   "execution_count": 4,
   "id": "9a11f72f-41a0-4295-b4be-04f0c1c480f5",
   "metadata": {},
   "outputs": [],
   "source": [
    "def mse(y_true: np.array or list, y_pred: np.array or list) -> float:\n",
    "    \"\"\"\n",
    "    ______________________________________\n",
    "    Получаемые параметры:\n",
    "    y_true - форма (n_образцов, n_features), \n",
    "    y_pred - форма (n_образцов, n_features),\n",
    "    ______________________________________\n",
    "    Выход - среднеквадратичная ошибка.\n",
    "    \"\"\"\n",
    "    y_true = np.array(y_true)\n",
    "    y_pred = np.array(y_pred)\n",
    "    try:\n",
    "        if type(y_true.shape[1]) is int:\n",
    "            return 1 / y_true.shape[1] * sum( (1 / y_true.shape[0]) * sum( (y_true - y_pred)**2 ) )\n",
    "    except:\n",
    "        return (1 / y_true.shape[0]) * sum( (y_true - y_pred)**2 )"
   ]
  },
  {
   "cell_type": "markdown",
   "id": "5dd3e229-524f-424c-aeb7-c3fc999baa76",
   "metadata": {},
   "source": [
    "Одномерные"
   ]
  },
  {
   "cell_type": "code",
   "execution_count": 24,
   "id": "49c743d6-f686-4b06-8004-92dcfb6c349c",
   "metadata": {},
   "outputs": [],
   "source": [
    "df10 = np.random.normal(size = 100)\n",
    "df20 = np.random.normal(size = 100)"
   ]
  },
  {
   "cell_type": "code",
   "execution_count": 25,
   "id": "2921394d-0eb1-44e3-99c4-ad9e0e6fd30d",
   "metadata": {},
   "outputs": [
    {
     "data": {
      "text/plain": [
       "(2.0552915898389337, 2.0552915898389337)"
      ]
     },
     "execution_count": 25,
     "metadata": {},
     "output_type": "execute_result"
    }
   ],
   "source": [
    "mse(df10, df20), mean_squared_error(df10, df20)"
   ]
  },
  {
   "cell_type": "markdown",
   "id": "f857e03d-027d-4477-8fb7-83a7ae18ec56",
   "metadata": {},
   "source": [
    "Многомерные"
   ]
  },
  {
   "cell_type": "code",
   "execution_count": 26,
   "id": "f48278cc-52de-47c8-91db-0384eced6de5",
   "metadata": {},
   "outputs": [],
   "source": [
    "df11 = np.random.normal(size = (100, 3))\n",
    "df21 = np.random.normal(size = (100, 3))"
   ]
  },
  {
   "cell_type": "code",
   "execution_count": 27,
   "id": "45125b37-0d16-42f2-84b2-757e8333fd73",
   "metadata": {},
   "outputs": [
    {
     "data": {
      "text/plain": [
       "(1.9700755435675723, 1.9700755435675725)"
      ]
     },
     "execution_count": 27,
     "metadata": {},
     "output_type": "execute_result"
    }
   ],
   "source": [
    "mse(df11, df21), mean_squared_error(df11, df21)"
   ]
  },
  {
   "cell_type": "code",
   "execution_count": null,
   "id": "d95333a7-2a80-4044-b97c-b0d23301b523",
   "metadata": {},
   "outputs": [],
   "source": []
  },
  {
   "cell_type": "code",
   "execution_count": null,
   "id": "ec78aaf6-e09d-4158-a177-9ecb30c49550",
   "metadata": {},
   "outputs": [],
   "source": []
  },
  {
   "cell_type": "markdown",
   "id": "ffbfb868-a85b-4d2e-a882-98523374a2d9",
   "metadata": {},
   "source": [
    "## Классификация ##"
   ]
  },
  {
   "cell_type": "code",
   "execution_count": 92,
   "id": "d0e1239b-87c8-43c5-86a0-78a021251a8b",
   "metadata": {},
   "outputs": [],
   "source": [
    "def custom_metrics_stacks(y_true: np.array or list, y_pred: np.array or list, classes: np.array or list, err_matrix = []) -> float:\n",
    "    \"\"\"\n",
    "    ______________________________________\n",
    "    Получаемые параметры:\n",
    "    y_true - форма (n_образцов, 1), \n",
    "    y_pred - форма (n_образцов, 1),\n",
    "    classes - список классов в правильной последовательности.\n",
    "    Для получения этого списка удобно использовать model.classes_.\n",
    "    err_matrix - матрица весов ошибок. По умолчанинию создается матрица с единичными весами\n",
    "    ______________________________________\n",
    "    Выход - нормализованное число, сумма ошибок в соответствии с матрицей ошибок,\n",
    "    деленная на максимально возможные ошибки.\n",
    "    Интерпретация - чем больше - тем лучше: 1 - хороший алгоритм, 0 - плохой алгоритм.\n",
    "    \"\"\"\n",
    "    y_true = np.array(y_true)\n",
    "    y_pred = np.array(y_pred)\n",
    "    classes = np.array(classes)\n",
    "    if (len(y_true) != len(y_pred)):\n",
    "        return 'Ошибка'\n",
    "    else:\n",
    "        # инициализация суммы ошибок\n",
    "        sum_error = 0\n",
    "        max_error = 0\n",
    "        # проверка, подана ли матрица ошибок, если нет, то создается единичная\n",
    "        if (len(err_matrix) == 0):\n",
    "            # инициализация матрицы ошибок\n",
    "            err_matrix = np.zeros( ( len(classes), len(classes) ) )\n",
    "            for i in range( 1, len(classes) ):\n",
    "                err_matrix += np.eye(len(classes),len(classes), i)\n",
    "                err_matrix += np.eye(len(classes),len(classes), -i)\n",
    "                \n",
    "        # основной проход по игрекам\n",
    "        for i in range(1,len(y_true)-1, 1):\n",
    "            \n",
    "            # поиск индекса, по которому обращаться в матрице ошибок\n",
    "            index_true = np.where(classes == y_true[i])[0][0]\n",
    "            index_of_max_err = np.where(err_matrix[index_true] == err_matrix[index_true].max())\n",
    "            if not np.isscalar(index_of_max_err):\n",
    "                index_pred = np.random.choice(index_of_max_err[0])\n",
    "            else:\n",
    "                index_pred = np.where( classes == max_dist_list )[0][0]\n",
    "            # если бы был предсказан самый дальний элемент от текущего\n",
    "            max_error += err_matrix[index_pred, index_true]\n",
    "            \n",
    "            # проверка равенства соседних элементов\n",
    "            if (y_pred[i] == y_true[i-1]) or (y_pred[i] == y_true[i]) or (y_pred[i] == y_true[i+1]):\n",
    "                sum_error += 0\n",
    "            else:\n",
    "                # поиск индекса, по которому обращаться в матрице ошибок\n",
    "                index_pred = np.where( classes == int(y_pred[i]) )[0][0]\n",
    "                index_true = np.where( classes == int(y_true[i]) )[0][0]\n",
    "                \n",
    "                sum_error += float(err_matrix[index_pred, index_true])\n",
    "                \n",
    "        if (max_error == 0):\n",
    "            return 1\n",
    "        else:\n",
    "            return 1 - sum_error/max_error"
   ]
  },
  {
   "cell_type": "code",
   "execution_count": 93,
   "id": "ed4f2ba6-ac96-47fa-bec4-f43c581e4d9b",
   "metadata": {},
   "outputs": [],
   "source": [
    "# расчет близости классов\n",
    "weights = {'0.0-0.0': 0.0, \n",
    " '0.0-1.0': 0.207898732244132, \n",
    " '0.0-2.0': 0.4567574858664082, \n",
    " '0.0-3.0': 0.5633508599161167, \n",
    " '0.0-4.0': 1.514547200352492, \n",
    " '0.0-5.0': 2.0410300579928813, \n",
    " '0.0-7.0': 0.3536350504758513, \n",
    " '0.0-8.0': 0.16273411248693093, \n",
    " '1.0-0.0': 0.207898732244132, \n",
    " '1.0-1.0': 0.0, \n",
    " '1.0-2.0': 0.2516816824597153, \n",
    " '1.0-3.0': 0.3554521276719847, \n",
    " '1.0-4.0': 1.2066360841782837, \n",
    " '1.0-5.0': 2.029223412762427, \n",
    " '1.0-7.0': 0.14573631823171934, \n",
    " '1.0-8.0': 0.2867763851717027, \n",
    " '2.0-0.0': 0.4567574858664082, \n",
    " '2.0-1.0': 0.2516816824597153, \n",
    " '2.0-2.0': 0.0, \n",
    " '2.0-3.0': 0.1522092582995127, \n",
    " '2.0-4.0': 0.9577773305560074, \n",
    " '2.0-5.0': 2.280905095222142, \n",
    " '2.0-7.0': 0.441953965667498, \n",
    " '2.0-8.0': 0.538458067631418, \n",
    " '3.0-0.0': 0.5633508599161167, \n",
    " '3.0-1.0': 0.3554521276719847, \n",
    " '3.0-2.0': 0.1522092582995127, \n",
    " '3.0-3.0': 0.0, \n",
    " '3.0-4.0': 0.851183956506299, \n",
    " '3.0-5.0': 2.1286958369226294, \n",
    " '3.0-7.0': 0.2897447073679853, \n",
    " '3.0-8.0': 0.4627716258588963, \n",
    " '4.0-0.0': 1.514547200352492, \n",
    " '4.0-1.0': 1.2066360841782837, \n",
    " '4.0-2.0': 0.9577773305560074, \n",
    " '4.0-3.0': 0.851183956506299, \n",
    " '4.0-4.0': 0.0, \n",
    " '4.0-5.0': 3.555577258345373, \n",
    " '4.0-7.0': 1.0608997659465642, \n",
    " '4.0-8.0': 1.5065059920619528, \n",
    " '5.0-0.0': 2.0410300579928813, \n",
    " '5.0-1.0': 2.029223412762427, \n",
    " '5.0-2.0': 2.280905095222142, \n",
    " '5.0-3.0': 2.1286958369226294, \n",
    " '5.0-4.0': 3.555577258345373, \n",
    " '5.0-5.0': 0.0, \n",
    " '5.0-7.0': 1.8389511295546441, \n",
    " '5.0-8.0': 1.742447027590724, \n",
    " '7.0-0.0': 0.3536350504758513, \n",
    " '7.0-1.0': 0.14573631823171934, \n",
    " '7.0-2.0': 0.441953965667498, \n",
    " '7.0-3.0': 0.2897447073679853, \n",
    " '7.0-4.0': 1.0608997659465642, \n",
    " '7.0-5.0': 1.8389511295546441, \n",
    " '7.0-7.0': 0.0, \n",
    " '7.0-8.0': 0.2530558164186309, \n",
    " '8.0-0.0': 0.16273411248693093, \n",
    " '8.0-1.0': 0.2867763851717027, \n",
    " '8.0-2.0': 0.538458067631418, \n",
    " '8.0-3.0': 0.4627716258588963, \n",
    " '8.0-4.0': 1.5065059920619528, \n",
    " '8.0-5.0': 1.742447027590724, \n",
    " '8.0-7.0': 0.2530558164186309, \n",
    " '8.0-8.0': 0.0}"
   ]
  },
  {
   "cell_type": "code",
   "execution_count": 94,
   "id": "be32b6ed-cd3a-489f-a8ce-964db1acb73b",
   "metadata": {},
   "outputs": [
    {
     "data": {
      "text/plain": [
       "array([[0.        , 0.20789873, 0.45675749, 0.56335086, 1.5145472 ,\n",
       "        2.04103006, 0.35363505, 0.16273411],\n",
       "       [0.20789873, 0.        , 0.25168168, 0.35545213, 1.20663608,\n",
       "        2.02922341, 0.14573632, 0.28677639],\n",
       "       [0.45675749, 0.25168168, 0.        , 0.15220926, 0.95777733,\n",
       "        2.2809051 , 0.44195397, 0.53845807],\n",
       "       [0.56335086, 0.35545213, 0.15220926, 0.        , 0.85118396,\n",
       "        2.12869584, 0.28974471, 0.46277163],\n",
       "       [1.5145472 , 1.20663608, 0.95777733, 0.85118396, 0.        ,\n",
       "        3.55557726, 1.06089977, 1.50650599],\n",
       "       [2.04103006, 2.02922341, 2.2809051 , 2.12869584, 3.55557726,\n",
       "        0.        , 1.83895113, 1.74244703],\n",
       "       [0.35363505, 0.14573632, 0.44195397, 0.28974471, 1.06089977,\n",
       "        1.83895113, 0.        , 0.25305582],\n",
       "       [0.16273411, 0.28677639, 0.53845807, 0.46277163, 1.50650599,\n",
       "        1.74244703, 0.25305582, 0.        ]])"
      ]
     },
     "execution_count": 94,
     "metadata": {},
     "output_type": "execute_result"
    }
   ],
   "source": [
    "# перевод из словаря в матрицу ошибок\n",
    "err_matrix = np.array([value for value in weights.values()]).reshape(8,8)\n",
    "err_matrix"
   ]
  },
  {
   "cell_type": "code",
   "execution_count": 95,
   "id": "b0728044-5fe9-4868-adab-40e8ad073e65",
   "metadata": {},
   "outputs": [
    {
     "data": {
      "text/plain": [
       "[0, 1, 2, 3, 4, 5, 7, 8]"
      ]
     },
     "execution_count": 95,
     "metadata": {},
     "output_type": "execute_result"
    }
   ],
   "source": [
    "# классы - список классов в соответствии с загружаемыми данными\n",
    "classes = [0, 1, 2, 3, 4, 5, 7, 8]\n",
    "# в примере нет 6-го класса, поэтому список выглядит так\n",
    "classes"
   ]
  },
  {
   "cell_type": "code",
   "execution_count": 100,
   "id": "be3a0f76-8f21-4f21-ba87-f1e70624a236",
   "metadata": {},
   "outputs": [],
   "source": [
    "df = pd.read_csv('Example_classification_metric.csv')"
   ]
  },
  {
   "cell_type": "code",
   "execution_count": 101,
   "id": "ffe2e5b0-539f-4214-a68e-15e052206a43",
   "metadata": {},
   "outputs": [],
   "source": [
    "y1, y2 = np.array(df['true']), np.array(df['predicted'])"
   ]
  },
  {
   "cell_type": "code",
   "execution_count": 102,
   "id": "36654621-49c0-4b13-8e22-34c92901fcd6",
   "metadata": {},
   "outputs": [
    {
     "data": {
      "text/plain": [
       "0.9592272907097648"
      ]
     },
     "execution_count": 102,
     "metadata": {},
     "output_type": "execute_result"
    }
   ],
   "source": [
    "custom_metrics_stacks(y1, y2, classes, err_matrix = err_matrix)"
   ]
  },
  {
   "cell_type": "markdown",
   "id": "73ef2d11-4395-4fe5-83de-9eabadbf509c",
   "metadata": {},
   "source": [
    "Можно матрицу близости классов не задавать, тогда она автоматически станет единичной (на диагонали - нули) и все классы будут равноценными."
   ]
  },
  {
   "cell_type": "code",
   "execution_count": 103,
   "id": "501467d4-8458-4049-847b-bf292a8ca53e",
   "metadata": {},
   "outputs": [
    {
     "data": {
      "text/plain": [
       "0.7885304659498208"
      ]
     },
     "execution_count": 103,
     "metadata": {},
     "output_type": "execute_result"
    }
   ],
   "source": [
    "custom_metrics_stacks(y1, y2, classes, err_matrix = [])"
   ]
  },
  {
   "cell_type": "code",
   "execution_count": null,
   "id": "7b950092-1d0d-446c-945a-3d3c14098e6b",
   "metadata": {},
   "outputs": [],
   "source": []
  }
 ],
 "metadata": {
  "kernelspec": {
   "display_name": "Python 3",
   "language": "python",
   "name": "python3"
  },
  "language_info": {
   "codemirror_mode": {
    "name": "ipython",
    "version": 3
   },
   "file_extension": ".py",
   "mimetype": "text/x-python",
   "name": "python",
   "nbconvert_exporter": "python",
   "pygments_lexer": "ipython3",
   "version": "3.6.8"
  }
 },
 "nbformat": 4,
 "nbformat_minor": 5
}
