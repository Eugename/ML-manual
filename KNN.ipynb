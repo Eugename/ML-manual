{
 "cells": [
  {
   "cell_type": "markdown",
   "id": "40a63e41-8d3f-4dc3-915f-9ef85e74f8be",
   "metadata": {},
   "source": [
    "## Блок импорта ##"
   ]
  },
  {
   "cell_type": "code",
   "execution_count": 1,
   "id": "d49400e1-f46b-4d8c-b387-47e65d4e5bb3",
   "metadata": {},
   "outputs": [],
   "source": [
    "import numpy as np\n",
    "import pandas as pd\n",
    "from sklearn.datasets import load_iris\n",
    "from sklearn.model_selection import train_test_split\n",
    "from sklearn.neighbors import KNeighborsClassifier\n",
    "from sklearn.metrics import classification_report"
   ]
  },
  {
   "cell_type": "markdown",
   "id": "9e8572ef-ca31-4ae0-a368-15813676241a",
   "metadata": {},
   "source": [
    "## Блок загрузки данных ##"
   ]
  },
  {
   "cell_type": "markdown",
   "id": "5ac8bfdb-a3af-4001-a0b2-0cf2190f1b49",
   "metadata": {},
   "source": [
    "Для примера пусть будет классификация ирисов Фишера."
   ]
  },
  {
   "cell_type": "code",
   "execution_count": 2,
   "id": "8e9d0aaa-5455-4dc0-99b9-9fa7772dcf35",
   "metadata": {},
   "outputs": [],
   "source": [
    "df = load_iris()"
   ]
  },
  {
   "cell_type": "code",
   "execution_count": 3,
   "id": "f749ca44-35c0-4210-ba76-a0992dbe066c",
   "metadata": {},
   "outputs": [],
   "source": [
    "X, y = pd.DataFrame(df['data']), df['target']"
   ]
  },
  {
   "cell_type": "code",
   "execution_count": 4,
   "id": "621b00fc-ad78-4bed-a844-0e3b6901b2b1",
   "metadata": {},
   "outputs": [
    {
     "data": {
      "text/plain": [
       "(150, 4)"
      ]
     },
     "execution_count": 4,
     "metadata": {},
     "output_type": "execute_result"
    }
   ],
   "source": [
    "X.shape"
   ]
  },
  {
   "cell_type": "code",
   "execution_count": 5,
   "id": "0ad7e4dc-599f-4a90-a5b1-ab41ca35c5ae",
   "metadata": {},
   "outputs": [],
   "source": [
    "X_train, X_test, y_train, y_test = train_test_split(X,y, shuffle = True)"
   ]
  },
  {
   "cell_type": "code",
   "execution_count": 6,
   "id": "9e2162f6-1ad6-4955-9a18-745371a775f5",
   "metadata": {},
   "outputs": [
    {
     "data": {
      "text/plain": [
       "(array([0, 1, 2]), array([0, 1, 2]))"
      ]
     },
     "execution_count": 6,
     "metadata": {},
     "output_type": "execute_result"
    }
   ],
   "source": [
    "np.unique(y_test), np.unique(y_train)"
   ]
  },
  {
   "cell_type": "markdown",
   "id": "301fcba8-7629-47b9-8a7b-1b850ef753be",
   "metadata": {},
   "source": [
    "## Сам классификатор KNN ##"
   ]
  },
  {
   "cell_type": "code",
   "execution_count": 7,
   "id": "dc258e85-05cc-41ec-8c35-cba8a475e1bd",
   "metadata": {},
   "outputs": [],
   "source": [
    "class KNNClassifier():\n",
    "    def __init__(self, n_neighbours = 3):\n",
    "        self.n_neighbours = n_neighbours\n",
    "        \n",
    "    def mse(self, a, b):\n",
    "        a = np.array(a)\n",
    "        b = np.array(b)\n",
    "        return (sum((a - b)**2))**.5\n",
    "    \n",
    "    def fit(self, X, y):\n",
    "        self.X = X\n",
    "        self.y = y\n",
    "    \n",
    "    def voting(self, best_neighbours_for_every_point):\n",
    "        \"\"\"На вход - массив (X_new.shape[0] * n_neighbours * 2), т.к. 2 - это [dist, label] \n",
    "        Возвращает - массив (X_new.shape[0] * 1 ), 1 - это метки \"\"\"\n",
    "        y_pred = np.array([np.median( np.array(test_sample)[:,1] ) for test_sample in best_neighbours_for_every_point] )\n",
    "        # test_sample имеет форму (n,2) для n соседей\n",
    "        return y_pred\n",
    "    \n",
    "    def predict(self, X_new):\n",
    "        dist = np.zeros((X_new.shape[0], self.X.shape[0]))\n",
    "        # для каждой точки\n",
    "        for idx_point, new_point in enumerate(X_new):\n",
    "            # посчитать расстояния до каждой из других точек\n",
    "            for idx_neighbor, old_neighbor in enumerate(self.X):\n",
    "                dist[idx_point, idx_neighbor] = self.mse(new_point, old_neighbor)\n",
    "                \n",
    "        # dist - матрица n*m, где n - новые точки, m - старые точки\n",
    "        # и dist[n,m] - расстояние от новой точки до старой (из трейна)\n",
    "        #print(dist.shape) # 50*100\n",
    "        # print(self.y.shape) по итогу есть 50 новых точек и 100 расстояний для каждой до всех точек трейна\n",
    "        #print(dist)\n",
    "        #print(self.y)\n",
    "        # теперь надо просто отсортировать расстояния для каждой точки и применить к ней метку соответствующего мажоритарного голосования\n",
    "        \n",
    "        # продублировать n раз игреки для соотнесения\n",
    "        Y = np.array([list(self.y)] * X_new.shape[0])\n",
    "        # print(np.array(Y).shape)\n",
    "        #print(dist, Y)\n",
    "        df = [[(x,y) for x,y in zip(dist_to_old_points, labels_of_old_points)] for dist_to_old_points, labels_of_old_points in zip(dist, Y)]\n",
    "        df = np.array(df)#.reshape(2,50,100)\n",
    "        \n",
    "        # теперь нужно отсортировать соседей и взять n - ближайших\n",
    "        #print(df)\n",
    "        neighbours = np.array([sorted(x_50, key = lambda x: x[0])[:self.n_neighbours] for x_50 in df])\n",
    "        #print(neighbours)\n",
    "        #print(neighbours.shape) # (50, 5, 2) - 50 точек, для каждой их них 5 ближайших\n",
    "        # получили n ближайших соседей, теперь для каждой точки нужно выработать предсказание\n",
    "        y_pred = self.voting(neighbours)\n",
    "        return y_pred"
   ]
  },
  {
   "cell_type": "markdown",
   "id": "a10c38d1-7ac7-42f6-bcc8-3d224e80e768",
   "metadata": {},
   "source": [
    "## Тестирование ##"
   ]
  },
  {
   "cell_type": "code",
   "execution_count": 8,
   "id": "80a5fbb7-45f1-4900-8906-80b06b83456f",
   "metadata": {
    "tags": []
   },
   "outputs": [
    {
     "data": {
      "text/plain": [
       "array([1., 0., 1., 1., 1., 1., 0., 1., 1., 1., 2., 0., 2., 1., 1., 2., 2.,\n",
       "       0., 2., 1., 0., 0., 1., 0., 0., 1., 0., 0., 2., 1., 0., 1., 0., 2.,\n",
       "       2., 1., 2., 2.])"
      ]
     },
     "execution_count": 8,
     "metadata": {},
     "output_type": "execute_result"
    }
   ],
   "source": [
    "knn = KNNClassifier(3)\n",
    "knn.fit(X_train.to_numpy(), y_train)\n",
    "y_pred = knn.predict(X_test.to_numpy())\n",
    "y_pred"
   ]
  },
  {
   "cell_type": "code",
   "execution_count": 9,
   "id": "ed30e384-017a-47eb-825a-3af979e62030",
   "metadata": {},
   "outputs": [
    {
     "data": {
      "text/plain": [
       "[(1, 2),\n",
       " (0, 0),\n",
       " (1, 1),\n",
       " (1, 1),\n",
       " (1, 2),\n",
       " (1, 2),\n",
       " (0, 0),\n",
       " (1, 1),\n",
       " (1, 1),\n",
       " (1, 1),\n",
       " (2, 2),\n",
       " (0, 0),\n",
       " (2, 2),\n",
       " (1, 1),\n",
       " (1, 1),\n",
       " (2, 2),\n",
       " (2, 2),\n",
       " (0, 0),\n",
       " (2, 2),\n",
       " (1, 1),\n",
       " (0, 0),\n",
       " (0, 0),\n",
       " (1, 1),\n",
       " (0, 0),\n",
       " (0, 0),\n",
       " (1, 1),\n",
       " (0, 0),\n",
       " (0, 0),\n",
       " (2, 2),\n",
       " (1, 1),\n",
       " (0, 0),\n",
       " (1, 1),\n",
       " (0, 0),\n",
       " (2, 2),\n",
       " (2, 2),\n",
       " (1, 1),\n",
       " (2, 2),\n",
       " (2, 2)]"
      ]
     },
     "execution_count": 9,
     "metadata": {},
     "output_type": "execute_result"
    }
   ],
   "source": [
    "[(i,j) for i,j in zip(y_pred.astype('int32'), y_test)] # вывод в кортежах (y_pred, y_true)"
   ]
  },
  {
   "cell_type": "code",
   "execution_count": 10,
   "id": "8fbdbdae-8f59-443b-a676-116dc9eb5582",
   "metadata": {},
   "outputs": [
    {
     "name": "stdout",
     "output_type": "stream",
     "text": [
      "              precision    recall  f1-score   support\n",
      "\n",
      "         0.0       1.00      1.00      1.00        12\n",
      "         1.0       1.00      0.81      0.90        16\n",
      "         2.0       0.77      1.00      0.87        10\n",
      "\n",
      "    accuracy                           0.92        38\n",
      "   macro avg       0.92      0.94      0.92        38\n",
      "weighted avg       0.94      0.92      0.92        38\n",
      "\n"
     ]
    }
   ],
   "source": [
    "print(classification_report(y_pred, y_test))"
   ]
  },
  {
   "cell_type": "markdown",
   "id": "766b8db5-0acf-4af6-a549-c806607fe6a9",
   "metadata": {},
   "source": [
    "## Сравнение с sklearn-новским ##"
   ]
  },
  {
   "cell_type": "code",
   "execution_count": 11,
   "id": "c629fe04-9267-44f8-b34f-0e2ff7f9dfc3",
   "metadata": {},
   "outputs": [
    {
     "data": {
      "text/plain": [
       "array([1, 0, 1, 1, 1, 1, 0, 1, 1, 1, 2, 0, 2, 1, 1, 2, 2, 0, 2, 1, 0, 0,\n",
       "       1, 0, 0, 1, 0, 0, 2, 1, 0, 1, 0, 2, 2, 1, 2, 2])"
      ]
     },
     "execution_count": 11,
     "metadata": {},
     "output_type": "execute_result"
    }
   ],
   "source": [
    "ksk = KNeighborsClassifier(n_neighbors = 3)\n",
    "ksk.fit(X_train.to_numpy(), y_train)\n",
    "y_pred_skl = ksk.predict(X_test.to_numpy())\n",
    "y_pred_skl"
   ]
  },
  {
   "cell_type": "code",
   "execution_count": 12,
   "id": "c3fe4011-1a81-497f-89ff-dfa5cc714371",
   "metadata": {},
   "outputs": [
    {
     "data": {
      "text/plain": [
       "[(1, 2),\n",
       " (0, 0),\n",
       " (1, 1),\n",
       " (1, 1),\n",
       " (1, 2),\n",
       " (1, 2),\n",
       " (0, 0),\n",
       " (1, 1),\n",
       " (1, 1),\n",
       " (1, 1),\n",
       " (2, 2),\n",
       " (0, 0),\n",
       " (2, 2),\n",
       " (1, 1),\n",
       " (1, 1),\n",
       " (2, 2),\n",
       " (2, 2),\n",
       " (0, 0),\n",
       " (2, 2),\n",
       " (1, 1),\n",
       " (0, 0),\n",
       " (0, 0),\n",
       " (1, 1),\n",
       " (0, 0),\n",
       " (0, 0),\n",
       " (1, 1),\n",
       " (0, 0),\n",
       " (0, 0),\n",
       " (2, 2),\n",
       " (1, 1),\n",
       " (0, 0),\n",
       " (1, 1),\n",
       " (0, 0),\n",
       " (2, 2),\n",
       " (2, 2),\n",
       " (1, 1),\n",
       " (2, 2),\n",
       " (2, 2)]"
      ]
     },
     "execution_count": 12,
     "metadata": {},
     "output_type": "execute_result"
    }
   ],
   "source": [
    "[(i,j) for i,j in zip(y_pred_skl.astype('int32'), y_test)] # вывод в кортежах (y_pred, y_true)"
   ]
  },
  {
   "cell_type": "code",
   "execution_count": 13,
   "id": "6bc183ed-d402-4304-81b8-5370d7361ebd",
   "metadata": {},
   "outputs": [
    {
     "name": "stdout",
     "output_type": "stream",
     "text": [
      "              precision    recall  f1-score   support\n",
      "\n",
      "           0       1.00      1.00      1.00        12\n",
      "           1       1.00      0.81      0.90        16\n",
      "           2       0.77      1.00      0.87        10\n",
      "\n",
      "    accuracy                           0.92        38\n",
      "   macro avg       0.92      0.94      0.92        38\n",
      "weighted avg       0.94      0.92      0.92        38\n",
      "\n"
     ]
    }
   ],
   "source": [
    "print(classification_report(y_pred_skl, y_test))"
   ]
  },
  {
   "cell_type": "markdown",
   "id": "02c4af08-8bdb-4f75-bcd7-436ddd86d532",
   "metadata": {},
   "source": [
    "**Вывод: Получилось такая же метрика, все отлично работает.**"
   ]
  },
  {
   "cell_type": "code",
   "execution_count": null,
   "id": "0f3c465f-de63-4224-a7a9-455a6aab1d58",
   "metadata": {},
   "outputs": [],
   "source": []
  }
 ],
 "metadata": {
  "kernelspec": {
   "display_name": "Python 3",
   "language": "python",
   "name": "python3"
  },
  "language_info": {
   "codemirror_mode": {
    "name": "ipython",
    "version": 3
   },
   "file_extension": ".py",
   "mimetype": "text/x-python",
   "name": "python",
   "nbconvert_exporter": "python",
   "pygments_lexer": "ipython3",
   "version": "3.6.8"
  }
 },
 "nbformat": 4,
 "nbformat_minor": 5
}
